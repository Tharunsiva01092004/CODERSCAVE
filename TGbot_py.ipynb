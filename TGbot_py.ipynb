{
  "nbformat": 4,
  "nbformat_minor": 0,
  "metadata": {
    "colab": {
      "provenance": [],
      "gpuType": "T4",
      "authorship_tag": "ABX9TyOCNtCcoTEXe9b6+HyKUsH9",
      "include_colab_link": true
    },
    "kernelspec": {
      "name": "python3",
      "display_name": "Python 3"
    },
    "language_info": {
      "name": "python"
    },
    "accelerator": "GPU"
  },
  "cells": [
    {
      "cell_type": "markdown",
      "metadata": {
        "id": "view-in-github",
        "colab_type": "text"
      },
      "source": [
        "<a href=\"https://colab.research.google.com/github/Tharunsiva01092004/CODERSCAVE/blob/main/TGbot_py.ipynb\" target=\"_parent\"><img src=\"https://colab.research.google.com/assets/colab-badge.svg\" alt=\"Open In Colab\"/></a>"
      ]
    },
    {
      "cell_type": "code",
      "source": [
        "!pip install openai python-telegram-bot --quiet"
      ],
      "metadata": {
        "colab": {
          "base_uri": "https://localhost:8080/"
        },
        "id": "znoaQNLukrnU",
        "outputId": "4b6b5a55-f920-4cda-b538-453abc2f4c5a"
      },
      "execution_count": 1,
      "outputs": [
        {
          "output_type": "stream",
          "name": "stdout",
          "text": [
            "\u001b[?25l   \u001b[90m━━━━━━━━━━━━━━━━━━━━━━━━━━━━━━━━━━━━━━━━\u001b[0m \u001b[32m0.0/673.5 kB\u001b[0m \u001b[31m?\u001b[0m eta \u001b[36m-:--:--\u001b[0m\r\u001b[2K   \u001b[91m━━━━━━━━━━━━━━━━━━━━━━━━━━━━━━━━━━━━━━━\u001b[0m\u001b[91m╸\u001b[0m \u001b[32m665.6/673.5 kB\u001b[0m \u001b[31m24.0 MB/s\u001b[0m eta \u001b[36m0:00:01\u001b[0m\r\u001b[2K   \u001b[90m━━━━━━━━━━━━━━━━━━━━━━━━━━━━━━━━━━━━━━━━\u001b[0m \u001b[32m673.5/673.5 kB\u001b[0m \u001b[31m13.8 MB/s\u001b[0m eta \u001b[36m0:00:00\u001b[0m\n",
            "\u001b[?25h"
          ]
        }
      ]
    },
    {
      "cell_type": "code",
      "source": [
        "import openai\n",
        "import logging\n",
        "import asyncio\n",
        "from telegram import Update\n",
        "from telegram.ext import (\n",
        "    ApplicationBuilder,\n",
        "    CommandHandler,\n",
        "    MessageHandler,\n",
        "    filters\n",
        ")\n",
        "\n",
        "# 🔑 Replace with your API keys\n",
        "OPENAI_API_KEY = \"gp-3.5-turbo\"\n",
        "TELEGRAM_BOT_TOKEN = \"7897959677:AAHCcp-2sEAscrsJ-ggoU0IMX7NluAyBiOI\"\n",
        "\n",
        "# Initialize OpenAI API\n",
        "openai.api_key = OPENAI_API_KEY\n",
        "\n",
        "# Set up logging (for debugging)\n",
        "logging.basicConfig(format=\"%(asctime)s - %(levelname)s - %(message)s\", level=logging.INFO)\n",
        "\n",
        "# Function to get AI response from OpenAI's GPT\n",
        "async def get_gpt_response(user_message):\n",
        "    try:\n",
        "        response = await openai.ChatCompletion.acreate(\n",
        "            model=\"gpt-4o\",  # Use \"gpt-3.5-turbo\" for lower cost\n",
        "            messages=[{\"role\": \"user\", \"content\": user_message}],\n",
        "            max_tokens=200,\n",
        "            temperature=0.7\n",
        "        )\n",
        "        return response[\"choices\"][0][\"message\"][\"content\"]\n",
        "    except Exception as e:\n",
        "        logging.error(f\"Error in OpenAI API call: {e}\")\n",
        "        return \"Sorry, I am having trouble responding right now.\"\n",
        "\n",
        "# Function to handle incoming messages\n",
        "async def handle_message(update: Update, context) -> None:\n",
        "    user_text = update.message.text\n",
        "    logging.info(f\"User said: {user_text}\")\n",
        "\n",
        "    # Get AI response\n",
        "    ai_response = await get_gpt_response(user_text)\n",
        "\n",
        "    # Send reply back to user\n",
        "    await update.message.reply_text(ai_response)\n",
        "\n",
        "# Function to handle \"/start\" command\n",
        "async def start(update: Update, context) -> None:\n",
        "    await update.message.reply_text(\"Hello! I'm your AI chatbot 🤖. How can I assist you today?\")\n",
        "\n",
        "# Main function to set up the bot\n",
        "async def main():\n",
        "    # Set up the Telegram bot using ApplicationBuilder (new syntax)\n",
        "    app = ApplicationBuilder().token(TELEGRAM_BOT_TOKEN).build()\n",
        "\n",
        "    # Add handlers\n",
        "    app.add_handler(CommandHandler(\"start\", start))\n",
        "    app.add_handler(MessageHandler(filters.TEXT & ~filters.COMMAND, handle_message))\n",
        "\n",
        "    # Start the bot (special handling for Colab)\n",
        "    logging.info(\"🤖 Bot is running...\")\n",
        "    await app.initialize()\n",
        "    await app.start()\n",
        "    await app.updater.start_polling()\n",
        "    await app.updater.idle()\n",
        "\n",
        "# 🚀 Run the bot (works in Colab)\n",
        "if __name__ == \"__main__\":\n",
        "    try:\n",
        "        asyncio.run(main())  # ✅ Safe for scripts\n",
        "    except RuntimeError:\n",
        "        loop = asyncio.get_event_loop()\n",
        "        loop.create_task(main())  # ✅ Safe for Colab & Jupyter\n"
      ],
      "metadata": {
        "colab": {
          "base_uri": "https://localhost:8080/"
        },
        "id": "fuJIVD7jkylP",
        "outputId": "9cec82ea-a444-45cb-c5a4-ca267b5628f7"
      },
      "execution_count": 5,
      "outputs": [
        {
          "output_type": "stream",
          "name": "stderr",
          "text": [
            "<ipython-input-5-a451e3944d32>:73: RuntimeWarning: coroutine 'main' was never awaited\n",
            "  loop.create_task(main())  # ✅ Safe for Colab & Jupyter\n",
            "RuntimeWarning: Enable tracemalloc to get the object allocation traceback\n"
          ]
        }
      ]
    }
  ]
}